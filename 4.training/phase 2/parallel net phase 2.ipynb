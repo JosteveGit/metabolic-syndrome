{
  "cells": [
    {
      "cell_type": "code",
      "execution_count": 1,
      "metadata": {
        "id": "scUIupOcDPED",
        "colab": {
          "base_uri": "https://localhost:8080/"
        },
        "executionInfo": {
          "status": "ok",
          "timestamp": 1702488497946,
          "user_tz": 0,
          "elapsed": 10139,
          "user": {
            "displayName": "",
            "userId": ""
          }
        },
        "outputId": "b2a402aa-db5f-4e0f-92f8-1c6b35285142"
      },
      "outputs": [
        {
          "output_type": "stream",
          "name": "stdout",
          "text": [
            "Requirement already satisfied: numpy in /usr/local/lib/python3.10/dist-packages (1.23.5)\n"
          ]
        }
      ],
      "source": [
        "!pip install numpy"
      ]
    },
    {
      "cell_type": "code",
      "execution_count": 2,
      "metadata": {
        "id": "qRKRhEsRDPEE",
        "outputId": "35e015a2-d04b-46c0-a53d-31e9df3134e2",
        "colab": {
          "base_uri": "https://localhost:8080/"
        },
        "executionInfo": {
          "status": "ok",
          "timestamp": 1702488507204,
          "user_tz": 0,
          "elapsed": 6089,
          "user": {
            "displayName": "",
            "userId": ""
          }
        }
      },
      "outputs": [
        {
          "output_type": "stream",
          "name": "stdout",
          "text": [
            "Requirement already satisfied: scikit-learn in /usr/local/lib/python3.10/dist-packages (1.2.2)\n",
            "Requirement already satisfied: numpy>=1.17.3 in /usr/local/lib/python3.10/dist-packages (from scikit-learn) (1.23.5)\n",
            "Requirement already satisfied: scipy>=1.3.2 in /usr/local/lib/python3.10/dist-packages (from scikit-learn) (1.11.4)\n",
            "Requirement already satisfied: joblib>=1.1.1 in /usr/local/lib/python3.10/dist-packages (from scikit-learn) (1.3.2)\n",
            "Requirement already satisfied: threadpoolctl>=2.0.0 in /usr/local/lib/python3.10/dist-packages (from scikit-learn) (3.2.0)\n"
          ]
        }
      ],
      "source": [
        "!pip install scikit-learn"
      ]
    },
    {
      "cell_type": "code",
      "execution_count": 3,
      "metadata": {
        "id": "JMTEb-7ODPEE",
        "outputId": "a654b72d-3af3-424d-949e-e41d799f51a2",
        "colab": {
          "base_uri": "https://localhost:8080/"
        },
        "executionInfo": {
          "status": "ok",
          "timestamp": 1702488516644,
          "user_tz": 0,
          "elapsed": 6081,
          "user": {
            "displayName": "",
            "userId": ""
          }
        }
      },
      "outputs": [
        {
          "output_type": "stream",
          "name": "stdout",
          "text": [
            "Requirement already satisfied: tensorflow in /usr/local/lib/python3.10/dist-packages (2.14.0)\n",
            "Requirement already satisfied: absl-py>=1.0.0 in /usr/local/lib/python3.10/dist-packages (from tensorflow) (1.4.0)\n",
            "Requirement already satisfied: astunparse>=1.6.0 in /usr/local/lib/python3.10/dist-packages (from tensorflow) (1.6.3)\n",
            "Requirement already satisfied: flatbuffers>=23.5.26 in /usr/local/lib/python3.10/dist-packages (from tensorflow) (23.5.26)\n",
            "Requirement already satisfied: gast!=0.5.0,!=0.5.1,!=0.5.2,>=0.2.1 in /usr/local/lib/python3.10/dist-packages (from tensorflow) (0.5.4)\n",
            "Requirement already satisfied: google-pasta>=0.1.1 in /usr/local/lib/python3.10/dist-packages (from tensorflow) (0.2.0)\n",
            "Requirement already satisfied: h5py>=2.9.0 in /usr/local/lib/python3.10/dist-packages (from tensorflow) (3.9.0)\n",
            "Requirement already satisfied: libclang>=13.0.0 in /usr/local/lib/python3.10/dist-packages (from tensorflow) (16.0.6)\n",
            "Requirement already satisfied: ml-dtypes==0.2.0 in /usr/local/lib/python3.10/dist-packages (from tensorflow) (0.2.0)\n",
            "Requirement already satisfied: numpy>=1.23.5 in /usr/local/lib/python3.10/dist-packages (from tensorflow) (1.23.5)\n",
            "Requirement already satisfied: opt-einsum>=2.3.2 in /usr/local/lib/python3.10/dist-packages (from tensorflow) (3.3.0)\n",
            "Requirement already satisfied: packaging in /usr/local/lib/python3.10/dist-packages (from tensorflow) (23.2)\n",
            "Requirement already satisfied: protobuf!=4.21.0,!=4.21.1,!=4.21.2,!=4.21.3,!=4.21.4,!=4.21.5,<5.0.0dev,>=3.20.3 in /usr/local/lib/python3.10/dist-packages (from tensorflow) (3.20.3)\n",
            "Requirement already satisfied: setuptools in /usr/local/lib/python3.10/dist-packages (from tensorflow) (67.7.2)\n",
            "Requirement already satisfied: six>=1.12.0 in /usr/local/lib/python3.10/dist-packages (from tensorflow) (1.16.0)\n",
            "Requirement already satisfied: termcolor>=1.1.0 in /usr/local/lib/python3.10/dist-packages (from tensorflow) (2.3.0)\n",
            "Requirement already satisfied: typing-extensions>=3.6.6 in /usr/local/lib/python3.10/dist-packages (from tensorflow) (4.5.0)\n",
            "Requirement already satisfied: wrapt<1.15,>=1.11.0 in /usr/local/lib/python3.10/dist-packages (from tensorflow) (1.14.1)\n",
            "Requirement already satisfied: tensorflow-io-gcs-filesystem>=0.23.1 in /usr/local/lib/python3.10/dist-packages (from tensorflow) (0.34.0)\n",
            "Requirement already satisfied: grpcio<2.0,>=1.24.3 in /usr/local/lib/python3.10/dist-packages (from tensorflow) (1.51.3)\n",
            "Requirement already satisfied: tensorboard<2.15,>=2.14 in /usr/local/lib/python3.10/dist-packages (from tensorflow) (2.14.1)\n",
            "Requirement already satisfied: tensorflow-estimator<2.15,>=2.14.0 in /usr/local/lib/python3.10/dist-packages (from tensorflow) (2.14.0)\n",
            "Requirement already satisfied: keras<2.15,>=2.14.0 in /usr/local/lib/python3.10/dist-packages (from tensorflow) (2.14.0)\n",
            "Requirement already satisfied: wheel<1.0,>=0.23.0 in /usr/local/lib/python3.10/dist-packages (from astunparse>=1.6.0->tensorflow) (0.42.0)\n",
            "Requirement already satisfied: google-auth<3,>=1.6.3 in /usr/local/lib/python3.10/dist-packages (from tensorboard<2.15,>=2.14->tensorflow) (2.17.3)\n",
            "Requirement already satisfied: google-auth-oauthlib<1.1,>=0.5 in /usr/local/lib/python3.10/dist-packages (from tensorboard<2.15,>=2.14->tensorflow) (1.0.0)\n",
            "Requirement already satisfied: markdown>=2.6.8 in /usr/local/lib/python3.10/dist-packages (from tensorboard<2.15,>=2.14->tensorflow) (3.5.1)\n",
            "Requirement already satisfied: requests<3,>=2.21.0 in /usr/local/lib/python3.10/dist-packages (from tensorboard<2.15,>=2.14->tensorflow) (2.31.0)\n",
            "Requirement already satisfied: tensorboard-data-server<0.8.0,>=0.7.0 in /usr/local/lib/python3.10/dist-packages (from tensorboard<2.15,>=2.14->tensorflow) (0.7.2)\n",
            "Requirement already satisfied: werkzeug>=1.0.1 in /usr/local/lib/python3.10/dist-packages (from tensorboard<2.15,>=2.14->tensorflow) (3.0.1)\n",
            "Requirement already satisfied: cachetools<6.0,>=2.0.0 in /usr/local/lib/python3.10/dist-packages (from google-auth<3,>=1.6.3->tensorboard<2.15,>=2.14->tensorflow) (5.3.2)\n",
            "Requirement already satisfied: pyasn1-modules>=0.2.1 in /usr/local/lib/python3.10/dist-packages (from google-auth<3,>=1.6.3->tensorboard<2.15,>=2.14->tensorflow) (0.3.0)\n",
            "Requirement already satisfied: rsa<5,>=3.1.4 in /usr/local/lib/python3.10/dist-packages (from google-auth<3,>=1.6.3->tensorboard<2.15,>=2.14->tensorflow) (4.9)\n",
            "Requirement already satisfied: requests-oauthlib>=0.7.0 in /usr/local/lib/python3.10/dist-packages (from google-auth-oauthlib<1.1,>=0.5->tensorboard<2.15,>=2.14->tensorflow) (1.3.1)\n",
            "Requirement already satisfied: charset-normalizer<4,>=2 in /usr/local/lib/python3.10/dist-packages (from requests<3,>=2.21.0->tensorboard<2.15,>=2.14->tensorflow) (3.3.2)\n",
            "Requirement already satisfied: idna<4,>=2.5 in /usr/local/lib/python3.10/dist-packages (from requests<3,>=2.21.0->tensorboard<2.15,>=2.14->tensorflow) (3.6)\n",
            "Requirement already satisfied: urllib3<3,>=1.21.1 in /usr/local/lib/python3.10/dist-packages (from requests<3,>=2.21.0->tensorboard<2.15,>=2.14->tensorflow) (2.0.7)\n",
            "Requirement already satisfied: certifi>=2017.4.17 in /usr/local/lib/python3.10/dist-packages (from requests<3,>=2.21.0->tensorboard<2.15,>=2.14->tensorflow) (2023.11.17)\n",
            "Requirement already satisfied: MarkupSafe>=2.1.1 in /usr/local/lib/python3.10/dist-packages (from werkzeug>=1.0.1->tensorboard<2.15,>=2.14->tensorflow) (2.1.3)\n",
            "Requirement already satisfied: pyasn1<0.6.0,>=0.4.6 in /usr/local/lib/python3.10/dist-packages (from pyasn1-modules>=0.2.1->google-auth<3,>=1.6.3->tensorboard<2.15,>=2.14->tensorflow) (0.5.1)\n",
            "Requirement already satisfied: oauthlib>=3.0.0 in /usr/local/lib/python3.10/dist-packages (from requests-oauthlib>=0.7.0->google-auth-oauthlib<1.1,>=0.5->tensorboard<2.15,>=2.14->tensorflow) (3.2.2)\n"
          ]
        }
      ],
      "source": [
        "!pip install tensorflow"
      ]
    },
    {
      "cell_type": "code",
      "execution_count": 4,
      "metadata": {
        "id": "5ezKohxdDPEE",
        "outputId": "9083a36b-189b-457d-8ab0-f4814fb900e8",
        "colab": {
          "base_uri": "https://localhost:8080/"
        },
        "executionInfo": {
          "status": "ok",
          "timestamp": 1702488524876,
          "user_tz": 0,
          "elapsed": 6045,
          "user": {
            "displayName": "",
            "userId": ""
          }
        }
      },
      "outputs": [
        {
          "output_type": "stream",
          "name": "stdout",
          "text": [
            "Requirement already satisfied: Pillow in /usr/local/lib/python3.10/dist-packages (9.4.0)\n"
          ]
        }
      ],
      "source": [
        "!pip install Pillow"
      ]
    },
    {
      "cell_type": "code",
      "execution_count": 6,
      "metadata": {
        "id": "1D3geQgCEk5y",
        "outputId": "e721eca5-f8ae-49f8-b746-66de94c90b2e",
        "colab": {
          "base_uri": "https://localhost:8080/"
        },
        "executionInfo": {
          "status": "ok",
          "timestamp": 1702488622070,
          "user_tz": 0,
          "elapsed": 5571,
          "user": {
            "displayName": "",
            "userId": ""
          }
        }
      },
      "outputs": [
        {
          "output_type": "stream",
          "name": "stdout",
          "text": [
            "Requirement already satisfied: opencv-python in /usr/local/lib/python3.10/dist-packages (4.8.0.76)\n",
            "Requirement already satisfied: numpy>=1.21.2 in /usr/local/lib/python3.10/dist-packages (from opencv-python) (1.23.5)\n"
          ]
        }
      ],
      "source": [
        "!pip install opencv-python"
      ]
    },
    {
      "cell_type": "code",
      "execution_count": 5,
      "metadata": {
        "id": "-e0T1KxpDPEF",
        "outputId": "4e698131-2658-4304-ae55-09ac47892daa",
        "colab": {
          "base_uri": "https://localhost:8080/"
        },
        "executionInfo": {
          "status": "ok",
          "timestamp": 1702488616501,
          "user_tz": 0,
          "elapsed": 18136,
          "user": {
            "displayName": "",
            "userId": ""
          }
        }
      },
      "outputs": [
        {
          "output_type": "stream",
          "name": "stdout",
          "text": [
            "Is Built with CUDA:  True\n"
          ]
        }
      ],
      "source": [
        "import tensorflow as tf\n",
        "\n",
        "print(\"Is Built with CUDA: \", tf.test.is_built_with_cuda())"
      ]
    },
    {
      "cell_type": "code",
      "execution_count": 13,
      "metadata": {
        "id": "yxX5MYFxDPEF",
        "outputId": "28325ef7-5b6d-4eab-de82-59f9f7c4135a",
        "tags": [],
        "colab": {
          "base_uri": "https://localhost:8080/"
        },
        "executionInfo": {
          "status": "ok",
          "timestamp": 1702498727638,
          "user_tz": 0,
          "elapsed": 471,
          "user": {
            "displayName": "",
            "userId": ""
          }
        }
      },
      "outputs": [
        {
          "output_type": "stream",
          "name": "stdout",
          "text": [
            "Num GPUs Available:  4\n"
          ]
        }
      ],
      "source": [
        "import tensorflow as tf\n",
        "print(\"Num GPUs Available: \", len(tf.config.experimental.list_physical_devices('GPU')))"
      ]
    },
    {
      "cell_type": "code",
      "execution_count": 8,
      "metadata": {
        "id": "2Yr9t27XDPEF",
        "outputId": "713b9a1d-dc21-48f3-e56b-1465b9e451a1",
        "colab": {
          "base_uri": "https://localhost:8080/"
        },
        "executionInfo": {
          "status": "ok",
          "timestamp": 1702488673131,
          "user_tz": 0,
          "elapsed": 1,
          "user": {
            "displayName": "",
            "userId": ""
          }
        }
      },
      "outputs": [
        {
          "output_type": "stream",
          "name": "stdout",
          "text": [
            "2.14.0\n"
          ]
        }
      ],
      "source": [
        "print(tf.__version__)"
      ]
    },
    {
      "cell_type": "code",
      "execution_count": 9,
      "metadata": {
        "id": "HBwMPr0hDPEF",
        "outputId": "c0571526-bd46-4a83-c9b6-32a89ed709bd",
        "colab": {
          "base_uri": "https://localhost:8080/"
        },
        "executionInfo": {
          "status": "ok",
          "timestamp": 1702488675345,
          "user_tz": 0,
          "elapsed": 4,
          "user": {
            "displayName": "",
            "userId": ""
          }
        }
      },
      "outputs": [
        {
          "output_type": "stream",
          "name": "stdout",
          "text": [
            "[PhysicalDevice(name='/physical_device:CPU:0', device_type='CPU'), PhysicalDevice(name='/physical_device:GPU:0', device_type='GPU'), PhysicalDevice(name='/physical_device:GPU:1', device_type='GPU'), PhysicalDevice(name='/physical_device:GPU:2', device_type='GPU'), PhysicalDevice(name='/physical_device:GPU:3', device_type='GPU')]\n"
          ]
        }
      ],
      "source": [
        "print(tf.config.list_physical_devices())"
      ]
    },
    {
      "cell_type": "code",
      "execution_count": 1,
      "metadata": {
        "id": "yCIAaTQyh4qd",
        "executionInfo": {
          "status": "ok",
          "timestamp": 1702498394366,
          "user_tz": 0,
          "elapsed": 16455,
          "user": {
            "displayName": "",
            "userId": ""
          }
        }
      },
      "outputs": [],
      "source": [
        "import numpy as np\n",
        "from tensorflow.keras.utils import to_categorical\n",
        "from PIL import Image\n",
        "import os\n",
        "\n",
        "def load_images_and_masks(image_dir, mask_dir, limit=10):\n",
        "    image_paths = sorted([\n",
        "        os.path.join(image_dir, fname)\n",
        "        for fname in os.listdir(image_dir)\n",
        "        if fname.endswith('.png') and fname.startswith(\"x\")\n",
        "    ])[:limit]\n",
        "\n",
        "    mask_paths = sorted([\n",
        "        os.path.join(mask_dir, fname)\n",
        "        for fname in os.listdir(mask_dir)\n",
        "        if fname.endswith('.png') and fname.startswith(\"y\")\n",
        "    ])[:limit]\n",
        "\n",
        "    images = [np.array(Image.open(path).convert(\"L\")) / 255.0 for path in image_paths]\n",
        "    images = [image.reshape(512, 512, 1) for image in images]\n",
        "    masks = [np.array(Image.open(path).convert(\"L\")) for path in mask_paths]\n",
        "\n",
        "    for i, mask in enumerate(masks):\n",
        "        masks[i][mask == 127] = 1  # Class 1\n",
        "        masks[i][mask == 255] = 2  # Class 2\n",
        "        masks[i] = to_categorical(masks[i], num_classes=3)\n",
        "\n",
        "    return np.array(images), np.array(masks)\n",
        "\n",
        "X, Y = load_images_and_masks(\"x\", \"y\", 1032)"
      ]
    },
    {
      "cell_type": "code",
      "execution_count": 2,
      "metadata": {
        "id": "BOP74IifDPEG",
        "outputId": "66483a49-afdd-47f7-be71-03fa9999fd38",
        "tags": [],
        "colab": {
          "base_uri": "https://localhost:8080/"
        },
        "executionInfo": {
          "status": "ok",
          "timestamp": 1702498394366,
          "user_tz": 0,
          "elapsed": 3,
          "user": {
            "displayName": "",
            "userId": ""
          }
        }
      },
      "outputs": [
        {
          "output_type": "execute_result",
          "data": {
            "text/plain": [
              "(1032, 512, 512, 1)"
            ]
          },
          "metadata": {},
          "execution_count": 2
        }
      ],
      "source": [
        "X.shape"
      ]
    },
    {
      "cell_type": "code",
      "execution_count": 3,
      "metadata": {
        "id": "rFJ_R7ElDPEG",
        "outputId": "ccd8f80d-f67d-4815-e4fa-2efa3bf319f3",
        "tags": [],
        "colab": {
          "base_uri": "https://localhost:8080/"
        },
        "executionInfo": {
          "status": "ok",
          "timestamp": 1702498394366,
          "user_tz": 0,
          "elapsed": 2,
          "user": {
            "displayName": "",
            "userId": ""
          }
        }
      },
      "outputs": [
        {
          "output_type": "execute_result",
          "data": {
            "text/plain": [
              "(1032, 512, 512, 3)"
            ]
          },
          "metadata": {},
          "execution_count": 3
        }
      ],
      "source": [
        "Y.shape"
      ]
    },
    {
      "cell_type": "code",
      "execution_count": 4,
      "metadata": {
        "id": "QVTM10Gmk3tE",
        "executionInfo": {
          "status": "ok",
          "timestamp": 1702498396925,
          "user_tz": 0,
          "elapsed": 2560,
          "user": {
            "displayName": "",
            "userId": ""
          }
        }
      },
      "outputs": [],
      "source": [
        "from sklearn.model_selection import train_test_split\n",
        "\n",
        "X_train, X_temp, y_train, y_temp = train_test_split(X, Y, test_size=0.2, random_state=42)\n",
        "X_val, X_test, y_val, y_test = train_test_split(X_temp, y_temp, test_size=0.5, random_state=42)"
      ]
    },
    {
      "cell_type": "code",
      "execution_count": 5,
      "metadata": {
        "id": "EaqkNrWEDPEH",
        "outputId": "d9a05c02-b3de-49a6-a7c9-6ced60893be5",
        "tags": [],
        "colab": {
          "base_uri": "https://localhost:8080/"
        },
        "executionInfo": {
          "status": "ok",
          "timestamp": 1702498396925,
          "user_tz": 0,
          "elapsed": 2,
          "user": {
            "displayName": "",
            "userId": ""
          }
        }
      },
      "outputs": [
        {
          "output_type": "stream",
          "name": "stdout",
          "text": [
            "(1032, 512, 512, 1)\n",
            "Train size: (825, 512, 512, 1), (825, 512, 512, 3)\n",
            "Val size: (103, 512, 512, 1), (103, 512, 512, 3)\n"
          ]
        }
      ],
      "source": [
        "print(X.shape)\n",
        "print(f\"Train size: {X_train.shape}, {y_train.shape}\")\n",
        "print(f\"Val size: {X_val.shape}, {y_val.shape}\")"
      ]
    },
    {
      "cell_type": "code",
      "execution_count": 14,
      "metadata": {
        "id": "sZzFE_LFmqZV",
        "executionInfo": {
          "status": "ok",
          "timestamp": 1702498731164,
          "user_tz": 0,
          "elapsed": 3,
          "user": {
            "displayName": "",
            "userId": ""
          }
        }
      },
      "outputs": [],
      "source": [
        "from tensorflow.keras.layers import Input, Conv2D, concatenate, Dropout, MaxPooling2D, UpSampling2D, PReLU\n",
        "from tensorflow.keras.models import Model\n",
        "\n",
        "def parallel_net_segmentation(input_size=(512, 512, 1), num_classes=3):\n",
        "    inputs = Input(input_size)\n",
        "\n",
        "    # First parallel block\n",
        "    path_a1 = Conv2D(64, (3, 3), padding='same')(inputs)\n",
        "    path_a1 = PReLU()(path_a1)\n",
        "    path_b1 = Conv2D(64, (5, 5), padding='same')(inputs)\n",
        "    path_b1 = PReLU()(path_b1)\n",
        "    merged1 = concatenate([path_a1, path_b1], axis=3)\n",
        "    pool1 = MaxPooling2D(pool_size=(2, 2))(merged1)\n",
        "\n",
        "    # Second parallel block\n",
        "    path_a2 = Conv2D(128, (3, 3), padding='same')(pool1)\n",
        "    path_a2 = PReLU()(path_a2)\n",
        "    path_b2 = Conv2D(128, (5, 5), padding='same')(pool1)\n",
        "    path_b2 = PReLU()(path_b2)\n",
        "    merged2 = concatenate([path_a2, path_b2], axis=3)\n",
        "    pool2 = MaxPooling2D(pool_size=(2, 2))(merged2)\n",
        "\n",
        "    # Third parallel block\n",
        "    path_a3 = Conv2D(256, (3, 3), padding='same')(pool2)\n",
        "    path_a3 = PReLU()(path_a3)\n",
        "    path_b3 = Conv2D(256, (5, 5), padding='same')(pool2)\n",
        "    path_b3 = PReLU()(path_b3)\n",
        "    merged3 = concatenate([path_a3, path_b3], axis=3)\n",
        "    drop3 = Dropout(0.65)(merged3)\n",
        "\n",
        "    # Upsampling and skip connection 1\n",
        "    upsample1 = UpSampling2D(size=(2, 2))(drop3)\n",
        "    skip1 = concatenate([upsample1, merged2], axis=3)\n",
        "\n",
        "    # Fourth parallel block with skip connection\n",
        "    path_a4 = Conv2D(128, (3, 3), padding='same')(skip1)\n",
        "    path_a4 = PReLU()(path_a4)\n",
        "    path_b4 = Conv2D(128, (5, 5), padding='same')(skip1)\n",
        "    path_b4 = PReLU()(path_b4)\n",
        "    merged4 = concatenate([path_a4, path_b4], axis=3)\n",
        "\n",
        "    # Upsampling and skip connection 2\n",
        "    upsample2 = UpSampling2D(size=(2, 2))(merged4)\n",
        "    skip2 = concatenate([upsample2, merged1], axis=3)\n",
        "\n",
        "    # Fifth parallel block with skip connection\n",
        "    path_a5 = Conv2D(64, (3, 3), padding='same')(skip2)\n",
        "    path_a5 = PReLU()(path_a5)\n",
        "    path_b5 = Conv2D(64, (5, 5), padding='same')(skip2)\n",
        "    path_b5 = PReLU()(path_b5)\n",
        "    merged5 = concatenate([path_a5, path_b5], axis=3)\n",
        "\n",
        "    # Final convolutional layer for segmentation\n",
        "    output = Conv2D(num_classes, (1, 1), activation='softmax')(merged5)\n",
        "\n",
        "    model = Model(inputs=inputs, outputs=output)\n",
        "\n",
        "    return model\n"
      ]
    },
    {
      "cell_type": "code",
      "execution_count": 15,
      "metadata": {
        "id": "vxWmF1dInWFF",
        "outputId": "09c92aa3-c401-4c5c-fa78-3b6f6617c3f6",
        "colab": {
          "base_uri": "https://localhost:8080/"
        },
        "executionInfo": {
          "status": "ok",
          "timestamp": 1702498735033,
          "user_tz": 0,
          "elapsed": 843,
          "user": {
            "displayName": "",
            "userId": ""
          }
        }
      },
      "outputs": [
        {
          "output_type": "stream",
          "name": "stdout",
          "text": [
            "Number of devices: 4\n"
          ]
        }
      ],
      "source": [
        "from tensorflow.keras.optimizers import Adam\n",
        "import tensorflow as tf\n",
        "from tensorflow.keras.losses import categorical_crossentropy\n",
        "from tensorflow.keras.metrics import Recall, Precision, MeanIoU\n",
        "from tensorflow.keras.losses import categorical_crossentropy\n",
        "\n",
        "\n",
        "smooth = 1e-6  # To avoid division by zero\n",
        "def dice_coefficient(y_true, y_pred):\n",
        "    smooth = 1e-6  # To avoid division by zero\n",
        "    y_true_f = tf.keras.backend.flatten(y_true)\n",
        "    y_pred_f = tf.keras.backend.flatten(y_pred)\n",
        "    intersection = tf.keras.backend.sum(y_true_f * y_pred_f)\n",
        "    return (2. * intersection + smooth) / (tf.keras.backend.sum(y_true_f) + tf.keras.backend.sum(y_pred_f) + smooth)\n",
        "\n",
        "def dice_loss(y_true, y_pred):\n",
        "    return 1 - dice_coefficient(y_true, y_pred)\n",
        "\n",
        "def iou(y_true, y_pred):\n",
        "    intersection = tf.keras.backend.sum(tf.keras.backend.abs(y_true * y_pred), axis=-1)\n",
        "    sum_ = tf.keras.backend.sum(tf.keras.backend.abs(y_true) + tf.keras.backend.abs(y_pred), axis=-1)\n",
        "    iou = (intersection + smooth) / (sum_ - intersection + smooth)\n",
        "    return iou\n",
        "\n",
        "def combined_dice_crossentropy_loss(y_true, y_pred, dice_loss_weight=0.5):\n",
        "    # Dice Loss\n",
        "    dice_loss_value = dice_loss(y_true, y_pred)\n",
        "\n",
        "    # Categorical Cross-Entropy Loss\n",
        "    cross_entropy_loss_value = categorical_crossentropy(y_true, y_pred)\n",
        "\n",
        "    # Combined Loss\n",
        "    combined_loss = dice_loss_weight * dice_loss_value + (1 - dice_loss_weight) * cross_entropy_loss_value\n",
        "    return combined_loss\n",
        "\n",
        "\n",
        "\n",
        "strategy = tf.distribute.MirroredStrategy()\n",
        "print('Number of devices: {}'.format(strategy.num_replicas_in_sync))\n",
        "\n",
        "with strategy.scope():\n",
        "    model = parallel_net_segmentation()\n",
        "    optimizer = Adam(learning_rate=2e-4)  # Example learning rate\n",
        "    model.compile(optimizer=optimizer, loss=combined_dice_crossentropy_loss, metrics=[\"accuracy\", dice_coefficient, iou])"
      ]
    },
    {
      "cell_type": "code",
      "execution_count": 16,
      "metadata": {
        "id": "uAqmdu7knZad",
        "outputId": "201e76d3-b364-42e0-d548-ea8bd166b6b7",
        "tags": [],
        "colab": {
          "base_uri": "https://localhost:8080/"
        },
        "executionInfo": {
          "status": "ok",
          "timestamp": 1702504682067,
          "user_tz": 0,
          "elapsed": 4665949,
          "user": {
            "displayName": "",
            "userId": ""
          }
        }
      },
      "outputs": [
        {
          "output_type": "stream",
          "name": "stdout",
          "text": [
            "Epoch 1/200\n",
            "207/207 [==============================] - ETA: 0s - loss: 0.3624 - accuracy: 0.8005 - dice_coefficient: 0.7440 - iou: 0.6799\n",
            "Epoch 1: val_loss improved from inf to 0.33189, saving model to model_best.h5\n"
          ]
        },
        {
          "output_type": "stream",
          "name": "stderr",
          "text": [
            "/usr/local/lib/python3.10/dist-packages/keras/src/engine/training.py:3079: UserWarning: You are saving your model as an HDF5 file via `model.save()`. This file format is considered legacy. We recommend using instead the native Keras format, e.g. `model.save('my_model.keras')`.\n",
            "  saving_api.save_model(\n"
          ]
        },
        {
          "output_type": "stream",
          "name": "stdout",
          "text": [
            "\b\b\b\b\b\b\b\b\b\b\b\b\b\b\b\b\b\b\b\b\b\b\b\b\b\b\b\b\b\b\b\b\b\b\b\b\b\b\b\b\b\b\b\b\b\b\b\b\b\b\b\b\b\b\b\b\b\b\b\b\b\b\b\b\b\b\b\b\b\b\b\b\b\b\b\b\b\b\b\b\b\b\b\b\b\b\b\b\b\b\b\b\b\b\b\b\b\b\b\b\b\b\b\b\b\b\b\b\b\b\b\b\b\b\b\b\b\b\b\b\b\b\b\b\b\r207/207 [==============================] - 158s 603ms/step - loss: 0.3624 - accuracy: 0.8005 - dice_coefficient: 0.7440 - iou: 0.6799 - val_loss: 0.3319 - val_accuracy: 0.8137 - val_dice_coefficient: 0.7612 - val_iou: 0.6945 - lr: 2.0000e-04\n",
            "Epoch 2/200\n",
            "207/207 [==============================] - ETA: 0s - loss: 0.2837 - accuracy: 0.8358 - dice_coefficient: 0.7994 - iou: 0.7439\n",
            "Epoch 2: val_loss improved from 0.33189 to 0.27712, saving model to model_best.h5\n",
            "207/207 [==============================] - 122s 587ms/step - loss: 0.2837 - accuracy: 0.8358 - dice_coefficient: 0.7994 - iou: 0.7439 - val_loss: 0.2771 - val_accuracy: 0.8343 - val_dice_coefficient: 0.8070 - val_iou: 0.7513 - lr: 2.0000e-04\n",
            "Epoch 3/200\n",
            "207/207 [==============================] - ETA: 0s - loss: 0.2320 - accuracy: 0.8762 - dice_coefficient: 0.8389 - iou: 0.7920\n",
            "Epoch 3: val_loss improved from 0.27712 to 0.23654, saving model to model_best.h5\n",
            "207/207 [==============================] - 122s 589ms/step - loss: 0.2320 - accuracy: 0.8762 - dice_coefficient: 0.8389 - iou: 0.7920 - val_loss: 0.2365 - val_accuracy: 0.8728 - val_dice_coefficient: 0.8357 - val_iou: 0.7869 - lr: 2.0000e-04\n",
            "Epoch 4/200\n",
            "207/207 [==============================] - ETA: 0s - loss: 0.1994 - accuracy: 0.8966 - dice_coefficient: 0.8635 - iou: 0.8229\n",
            "Epoch 4: val_loss improved from 0.23654 to 0.19420, saving model to model_best.h5\n",
            "207/207 [==============================] - 122s 588ms/step - loss: 0.1994 - accuracy: 0.8966 - dice_coefficient: 0.8635 - iou: 0.8229 - val_loss: 0.1942 - val_accuracy: 0.8990 - val_dice_coefficient: 0.8691 - val_iou: 0.8290 - lr: 2.0000e-04\n",
            "Epoch 5/200\n",
            "207/207 [==============================] - ETA: 0s - loss: 0.1766 - accuracy: 0.9098 - dice_coefficient: 0.8802 - iou: 0.8436\n",
            "Epoch 5: val_loss improved from 0.19420 to 0.17044, saving model to model_best.h5\n",
            "207/207 [==============================] - 122s 588ms/step - loss: 0.1766 - accuracy: 0.9098 - dice_coefficient: 0.8802 - iou: 0.8436 - val_loss: 0.1704 - val_accuracy: 0.9125 - val_dice_coefficient: 0.8852 - val_iou: 0.8488 - lr: 2.0000e-04\n",
            "Epoch 6/200\n",
            "207/207 [==============================] - ETA: 0s - loss: 0.1601 - accuracy: 0.9188 - dice_coefficient: 0.8926 - iou: 0.8594\n",
            "Epoch 6: val_loss improved from 0.17044 to 0.15957, saving model to model_best.h5\n",
            "207/207 [==============================] - 122s 589ms/step - loss: 0.1601 - accuracy: 0.9188 - dice_coefficient: 0.8926 - iou: 0.8594 - val_loss: 0.1596 - val_accuracy: 0.9188 - val_dice_coefficient: 0.8947 - val_iou: 0.8614 - lr: 2.0000e-04\n",
            "Epoch 7/200\n",
            "207/207 [==============================] - ETA: 0s - loss: 0.1441 - accuracy: 0.9271 - dice_coefficient: 0.9030 - iou: 0.8725\n",
            "Epoch 7: val_loss improved from 0.15957 to 0.14482, saving model to model_best.h5\n",
            "207/207 [==============================] - 123s 594ms/step - loss: 0.1441 - accuracy: 0.9271 - dice_coefficient: 0.9030 - iou: 0.8725 - val_loss: 0.1448 - val_accuracy: 0.9281 - val_dice_coefficient: 0.8992 - val_iou: 0.8636 - lr: 2.0000e-04\n",
            "Epoch 8/200\n",
            "207/207 [==============================] - ETA: 0s - loss: 0.1344 - accuracy: 0.9325 - dice_coefficient: 0.9102 - iou: 0.8818\n",
            "Epoch 8: val_loss improved from 0.14482 to 0.13870, saving model to model_best.h5\n",
            "207/207 [==============================] - 121s 584ms/step - loss: 0.1344 - accuracy: 0.9325 - dice_coefficient: 0.9102 - iou: 0.8818 - val_loss: 0.1387 - val_accuracy: 0.9305 - val_dice_coefficient: 0.9061 - val_iou: 0.8745 - lr: 2.0000e-04\n",
            "Epoch 9/200\n",
            "207/207 [==============================] - ETA: 0s - loss: 0.1281 - accuracy: 0.9357 - dice_coefficient: 0.9144 - iou: 0.8872\n",
            "Epoch 9: val_loss improved from 0.13870 to 0.12658, saving model to model_best.h5\n",
            "207/207 [==============================] - 122s 590ms/step - loss: 0.1281 - accuracy: 0.9357 - dice_coefficient: 0.9144 - iou: 0.8872 - val_loss: 0.1266 - val_accuracy: 0.9361 - val_dice_coefficient: 0.9158 - val_iou: 0.8883 - lr: 2.0000e-04\n",
            "Epoch 10/200\n",
            "207/207 [==============================] - ETA: 0s - loss: 0.1188 - accuracy: 0.9405 - dice_coefficient: 0.9208 - iou: 0.8956\n",
            "Epoch 10: val_loss did not improve from 0.12658\n",
            "207/207 [==============================] - 109s 528ms/step - loss: 0.1188 - accuracy: 0.9405 - dice_coefficient: 0.9208 - iou: 0.8956 - val_loss: 0.1366 - val_accuracy: 0.9306 - val_dice_coefficient: 0.9144 - val_iou: 0.8898 - lr: 2.0000e-04\n",
            "Epoch 11/200\n",
            "207/207 [==============================] - ETA: 0s - loss: 0.1171 - accuracy: 0.9413 - dice_coefficient: 0.9215 - iou: 0.8963\n",
            "Epoch 11: val_loss improved from 0.12658 to 0.11932, saving model to model_best.h5\n",
            "207/207 [==============================] - 120s 582ms/step - loss: 0.1171 - accuracy: 0.9413 - dice_coefficient: 0.9215 - iou: 0.8963 - val_loss: 0.1193 - val_accuracy: 0.9400 - val_dice_coefficient: 0.9237 - val_iou: 0.9004 - lr: 2.0000e-04\n",
            "Epoch 12/200\n",
            "207/207 [==============================] - ETA: 0s - loss: 0.1057 - accuracy: 0.9475 - dice_coefficient: 0.9295 - iou: 0.9067\n",
            "Epoch 12: val_loss improved from 0.11932 to 0.11039, saving model to model_best.h5\n",
            "207/207 [==============================] - 121s 585ms/step - loss: 0.1057 - accuracy: 0.9475 - dice_coefficient: 0.9295 - iou: 0.9067 - val_loss: 0.1104 - val_accuracy: 0.9448 - val_dice_coefficient: 0.9282 - val_iou: 0.9053 - lr: 2.0000e-04\n",
            "Epoch 13/200\n",
            "207/207 [==============================] - ETA: 0s - loss: 0.1000 - accuracy: 0.9505 - dice_coefficient: 0.9335 - iou: 0.9120\n",
            "Epoch 13: val_loss improved from 0.11039 to 0.10945, saving model to model_best.h5\n",
            "207/207 [==============================] - 122s 589ms/step - loss: 0.1000 - accuracy: 0.9505 - dice_coefficient: 0.9335 - iou: 0.9120 - val_loss: 0.1094 - val_accuracy: 0.9461 - val_dice_coefficient: 0.9261 - val_iou: 0.9006 - lr: 2.0000e-04\n",
            "Epoch 14/200\n",
            "207/207 [==============================] - ETA: 0s - loss: 0.0968 - accuracy: 0.9519 - dice_coefficient: 0.9356 - iou: 0.9147\n",
            "Epoch 14: val_loss improved from 0.10945 to 0.10676, saving model to model_best.h5\n",
            "207/207 [==============================] - 120s 582ms/step - loss: 0.0968 - accuracy: 0.9519 - dice_coefficient: 0.9356 - iou: 0.9147 - val_loss: 0.1068 - val_accuracy: 0.9472 - val_dice_coefficient: 0.9290 - val_iou: 0.9052 - lr: 2.0000e-04\n",
            "Epoch 15/200\n",
            "207/207 [==============================] - ETA: 0s - loss: 0.0917 - accuracy: 0.9545 - dice_coefficient: 0.9388 - iou: 0.9189\n",
            "Epoch 15: val_loss improved from 0.10676 to 0.10633, saving model to model_best.h5\n",
            "207/207 [==============================] - 122s 588ms/step - loss: 0.0917 - accuracy: 0.9545 - dice_coefficient: 0.9388 - iou: 0.9189 - val_loss: 0.1063 - val_accuracy: 0.9472 - val_dice_coefficient: 0.9333 - val_iou: 0.9131 - lr: 2.0000e-04\n",
            "Epoch 16/200\n",
            "207/207 [==============================] - ETA: 0s - loss: 0.0886 - accuracy: 0.9560 - dice_coefficient: 0.9410 - iou: 0.9218\n",
            "Epoch 16: val_loss improved from 0.10633 to 0.09923, saving model to model_best.h5\n",
            "207/207 [==============================] - 121s 584ms/step - loss: 0.0886 - accuracy: 0.9560 - dice_coefficient: 0.9410 - iou: 0.9218 - val_loss: 0.0992 - val_accuracy: 0.9508 - val_dice_coefficient: 0.9365 - val_iou: 0.9165 - lr: 2.0000e-04\n",
            "Epoch 17/200\n",
            "207/207 [==============================] - ETA: 0s - loss: 0.0831 - accuracy: 0.9589 - dice_coefficient: 0.9446 - iou: 0.9264\n",
            "Epoch 17: val_loss did not improve from 0.09923\n",
            "207/207 [==============================] - 109s 525ms/step - loss: 0.0831 - accuracy: 0.9589 - dice_coefficient: 0.9446 - iou: 0.9264 - val_loss: 0.0993 - val_accuracy: 0.9515 - val_dice_coefficient: 0.9407 - val_iou: 0.9239 - lr: 2.0000e-04\n",
            "Epoch 18/200\n",
            "207/207 [==============================] - ETA: 0s - loss: 0.0818 - accuracy: 0.9597 - dice_coefficient: 0.9459 - iou: 0.9284\n",
            "Epoch 18: val_loss improved from 0.09923 to 0.09712, saving model to model_best.h5\n",
            "207/207 [==============================] - 122s 588ms/step - loss: 0.0818 - accuracy: 0.9597 - dice_coefficient: 0.9459 - iou: 0.9284 - val_loss: 0.0971 - val_accuracy: 0.9521 - val_dice_coefficient: 0.9389 - val_iou: 0.9201 - lr: 2.0000e-04\n",
            "Epoch 19/200\n",
            "207/207 [==============================] - ETA: 0s - loss: 0.0794 - accuracy: 0.9607 - dice_coefficient: 0.9471 - iou: 0.9298\n",
            "Epoch 19: val_loss improved from 0.09712 to 0.09570, saving model to model_best.h5\n",
            "207/207 [==============================] - 121s 586ms/step - loss: 0.0794 - accuracy: 0.9607 - dice_coefficient: 0.9471 - iou: 0.9298 - val_loss: 0.0957 - val_accuracy: 0.9529 - val_dice_coefficient: 0.9386 - val_iou: 0.9190 - lr: 2.0000e-04\n",
            "Epoch 20/200\n",
            "207/207 [==============================] - ETA: 0s - loss: 0.0763 - accuracy: 0.9625 - dice_coefficient: 0.9495 - iou: 0.9330\n",
            "Epoch 20: val_loss improved from 0.09570 to 0.09386, saving model to model_best.h5\n",
            "207/207 [==============================] - 122s 588ms/step - loss: 0.0763 - accuracy: 0.9625 - dice_coefficient: 0.9495 - iou: 0.9330 - val_loss: 0.0939 - val_accuracy: 0.9537 - val_dice_coefficient: 0.9403 - val_iou: 0.9215 - lr: 2.0000e-04\n",
            "Epoch 21/200\n",
            "207/207 [==============================] - ETA: 0s - loss: 0.0747 - accuracy: 0.9632 - dice_coefficient: 0.9505 - iou: 0.9343\n",
            "Epoch 21: val_loss improved from 0.09386 to 0.09381, saving model to model_best.h5\n",
            "207/207 [==============================] - 121s 586ms/step - loss: 0.0747 - accuracy: 0.9632 - dice_coefficient: 0.9505 - iou: 0.9343 - val_loss: 0.0938 - val_accuracy: 0.9539 - val_dice_coefficient: 0.9415 - val_iou: 0.9237 - lr: 2.0000e-04\n",
            "Epoch 22/200\n",
            "207/207 [==============================] - ETA: 0s - loss: 0.0718 - accuracy: 0.9646 - dice_coefficient: 0.9523 - iou: 0.9367\n",
            "Epoch 22: val_loss improved from 0.09381 to 0.09135, saving model to model_best.h5\n",
            "207/207 [==============================] - 122s 590ms/step - loss: 0.0718 - accuracy: 0.9646 - dice_coefficient: 0.9523 - iou: 0.9367 - val_loss: 0.0914 - val_accuracy: 0.9556 - val_dice_coefficient: 0.9434 - val_iou: 0.9261 - lr: 2.0000e-04\n",
            "Epoch 23/200\n",
            "207/207 [==============================] - ETA: 0s - loss: 0.0706 - accuracy: 0.9652 - dice_coefficient: 0.9531 - iou: 0.9376\n",
            "Epoch 23: val_loss did not improve from 0.09135\n",
            "207/207 [==============================] - 109s 526ms/step - loss: 0.0706 - accuracy: 0.9652 - dice_coefficient: 0.9531 - iou: 0.9376 - val_loss: 0.0935 - val_accuracy: 0.9543 - val_dice_coefficient: 0.9430 - val_iou: 0.9262 - lr: 2.0000e-04\n",
            "Epoch 24/200\n",
            "207/207 [==============================] - ETA: 0s - loss: 0.0660 - accuracy: 0.9675 - dice_coefficient: 0.9561 - iou: 0.9416\n",
            "Epoch 24: val_loss improved from 0.09135 to 0.09089, saving model to model_best.h5\n",
            "207/207 [==============================] - 122s 589ms/step - loss: 0.0660 - accuracy: 0.9675 - dice_coefficient: 0.9561 - iou: 0.9416 - val_loss: 0.0909 - val_accuracy: 0.9557 - val_dice_coefficient: 0.9446 - val_iou: 0.9281 - lr: 2.0000e-04\n",
            "Epoch 25/200\n",
            "207/207 [==============================] - ETA: 0s - loss: 0.0642 - accuracy: 0.9684 - dice_coefficient: 0.9573 - iou: 0.9432\n",
            "Epoch 25: val_loss did not improve from 0.09089\n",
            "207/207 [==============================] - 109s 528ms/step - loss: 0.0642 - accuracy: 0.9684 - dice_coefficient: 0.9573 - iou: 0.9432 - val_loss: 0.0935 - val_accuracy: 0.9543 - val_dice_coefficient: 0.9440 - val_iou: 0.9280 - lr: 2.0000e-04\n",
            "Epoch 26/200\n",
            "207/207 [==============================] - ETA: 0s - loss: 0.0633 - accuracy: 0.9688 - dice_coefficient: 0.9579 - iou: 0.9440\n",
            "Epoch 26: val_loss improved from 0.09089 to 0.08957, saving model to model_best.h5\n",
            "207/207 [==============================] - 121s 587ms/step - loss: 0.0633 - accuracy: 0.9688 - dice_coefficient: 0.9579 - iou: 0.9440 - val_loss: 0.0896 - val_accuracy: 0.9565 - val_dice_coefficient: 0.9462 - val_iou: 0.9307 - lr: 2.0000e-04\n",
            "Epoch 27/200\n",
            "207/207 [==============================] - ETA: 0s - loss: 0.0613 - accuracy: 0.9698 - dice_coefficient: 0.9593 - iou: 0.9459\n",
            "Epoch 27: val_loss improved from 0.08957 to 0.08855, saving model to model_best.h5\n",
            "207/207 [==============================] - 122s 588ms/step - loss: 0.0613 - accuracy: 0.9698 - dice_coefficient: 0.9593 - iou: 0.9459 - val_loss: 0.0886 - val_accuracy: 0.9569 - val_dice_coefficient: 0.9461 - val_iou: 0.9302 - lr: 2.0000e-04\n",
            "Epoch 28/200\n",
            "207/207 [==============================] - ETA: 0s - loss: 0.0612 - accuracy: 0.9698 - dice_coefficient: 0.9594 - iou: 0.9461\n",
            "Epoch 28: val_loss improved from 0.08855 to 0.08446, saving model to model_best.h5\n",
            "207/207 [==============================] - 123s 593ms/step - loss: 0.0612 - accuracy: 0.9698 - dice_coefficient: 0.9594 - iou: 0.9461 - val_loss: 0.0845 - val_accuracy: 0.9589 - val_dice_coefficient: 0.9474 - val_iou: 0.9313 - lr: 2.0000e-04\n",
            "Epoch 29/200\n",
            "207/207 [==============================] - ETA: 0s - loss: 0.0577 - accuracy: 0.9716 - dice_coefficient: 0.9616 - iou: 0.9488\n",
            "Epoch 29: val_loss did not improve from 0.08446\n",
            "207/207 [==============================] - 109s 524ms/step - loss: 0.0577 - accuracy: 0.9716 - dice_coefficient: 0.9616 - iou: 0.9488 - val_loss: 0.0856 - val_accuracy: 0.9595 - val_dice_coefficient: 0.9509 - val_iou: 0.9375 - lr: 2.0000e-04\n",
            "Epoch 30/200\n",
            "207/207 [==============================] - ETA: 0s - loss: 0.0611 - accuracy: 0.9698 - dice_coefficient: 0.9595 - iou: 0.9463\n",
            "Epoch 30: val_loss did not improve from 0.08446\n",
            "207/207 [==============================] - 109s 525ms/step - loss: 0.0611 - accuracy: 0.9698 - dice_coefficient: 0.9595 - iou: 0.9463 - val_loss: 0.0859 - val_accuracy: 0.9586 - val_dice_coefficient: 0.9475 - val_iou: 0.9316 - lr: 2.0000e-04\n",
            "Epoch 31/200\n",
            "207/207 [==============================] - ETA: 0s - loss: 0.0561 - accuracy: 0.9724 - dice_coefficient: 0.9627 - iou: 0.9504\n",
            "Epoch 31: val_loss did not improve from 0.08446\n",
            "207/207 [==============================] - 110s 530ms/step - loss: 0.0561 - accuracy: 0.9724 - dice_coefficient: 0.9627 - iou: 0.9504 - val_loss: 0.0848 - val_accuracy: 0.9599 - val_dice_coefficient: 0.9516 - val_iou: 0.9385 - lr: 2.0000e-04\n",
            "Epoch 32/200\n",
            "207/207 [==============================] - ETA: 0s - loss: 0.0531 - accuracy: 0.9739 - dice_coefficient: 0.9647 - iou: 0.9530\n",
            "Epoch 32: val_loss improved from 0.08446 to 0.08214, saving model to model_best.h5\n",
            "207/207 [==============================] - 122s 590ms/step - loss: 0.0531 - accuracy: 0.9739 - dice_coefficient: 0.9647 - iou: 0.9530 - val_loss: 0.0821 - val_accuracy: 0.9612 - val_dice_coefficient: 0.9531 - val_iou: 0.9404 - lr: 2.0000e-04\n",
            "Epoch 33/200\n",
            "207/207 [==============================] - ETA: 0s - loss: 0.0508 - accuracy: 0.9750 - dice_coefficient: 0.9662 - iou: 0.9550\n",
            "Epoch 33: val_loss did not improve from 0.08214\n",
            "207/207 [==============================] - 109s 529ms/step - loss: 0.0508 - accuracy: 0.9750 - dice_coefficient: 0.9662 - iou: 0.9550 - val_loss: 0.0836 - val_accuracy: 0.9606 - val_dice_coefficient: 0.9518 - val_iou: 0.9384 - lr: 2.0000e-04\n",
            "Epoch 34/200\n",
            "207/207 [==============================] - ETA: 0s - loss: 0.0518 - accuracy: 0.9745 - dice_coefficient: 0.9657 - iou: 0.9544\n",
            "Epoch 34: val_loss did not improve from 0.08214\n",
            "207/207 [==============================] - 109s 528ms/step - loss: 0.0518 - accuracy: 0.9745 - dice_coefficient: 0.9657 - iou: 0.9544 - val_loss: 0.0882 - val_accuracy: 0.9596 - val_dice_coefficient: 0.9522 - val_iou: 0.9400 - lr: 2.0000e-04\n",
            "Epoch 35/200\n",
            "207/207 [==============================] - ETA: 0s - loss: 0.0507 - accuracy: 0.9751 - dice_coefficient: 0.9663 - iou: 0.9552\n",
            "Epoch 35: val_loss improved from 0.08214 to 0.08176, saving model to model_best.h5\n",
            "207/207 [==============================] - 122s 590ms/step - loss: 0.0507 - accuracy: 0.9751 - dice_coefficient: 0.9663 - iou: 0.9552 - val_loss: 0.0818 - val_accuracy: 0.9621 - val_dice_coefficient: 0.9549 - val_iou: 0.9431 - lr: 2.0000e-04\n",
            "Epoch 36/200\n",
            "207/207 [==============================] - ETA: 0s - loss: 0.0496 - accuracy: 0.9755 - dice_coefficient: 0.9671 - iou: 0.9563\n",
            "Epoch 36: val_loss did not improve from 0.08176\n",
            "207/207 [==============================] - 110s 530ms/step - loss: 0.0496 - accuracy: 0.9755 - dice_coefficient: 0.9671 - iou: 0.9563 - val_loss: 0.0889 - val_accuracy: 0.9593 - val_dice_coefficient: 0.9518 - val_iou: 0.9394 - lr: 2.0000e-04\n",
            "Epoch 37/200\n",
            "207/207 [==============================] - ETA: 0s - loss: 0.0476 - accuracy: 0.9765 - dice_coefficient: 0.9682 - iou: 0.9577\n",
            "Epoch 37: val_loss did not improve from 0.08176\n",
            "207/207 [==============================] - 108s 521ms/step - loss: 0.0476 - accuracy: 0.9765 - dice_coefficient: 0.9682 - iou: 0.9577 - val_loss: 0.0823 - val_accuracy: 0.9623 - val_dice_coefficient: 0.9551 - val_iou: 0.9434 - lr: 2.0000e-04\n",
            "Epoch 38/200\n",
            "207/207 [==============================] - ETA: 0s - loss: 0.0453 - accuracy: 0.9777 - dice_coefficient: 0.9698 - iou: 0.9598\n",
            "Epoch 38: val_loss did not improve from 0.08176\n",
            "207/207 [==============================] - 108s 522ms/step - loss: 0.0453 - accuracy: 0.9777 - dice_coefficient: 0.9698 - iou: 0.9598 - val_loss: 0.0839 - val_accuracy: 0.9620 - val_dice_coefficient: 0.9551 - val_iou: 0.9437 - lr: 2.0000e-04\n",
            "Epoch 39/200\n",
            "207/207 [==============================] - ETA: 0s - loss: 0.0441 - accuracy: 0.9783 - dice_coefficient: 0.9707 - iou: 0.9609\n",
            "Epoch 39: val_loss did not improve from 0.08176\n",
            "207/207 [==============================] - 108s 524ms/step - loss: 0.0441 - accuracy: 0.9783 - dice_coefficient: 0.9707 - iou: 0.9609 - val_loss: 0.0858 - val_accuracy: 0.9609 - val_dice_coefficient: 0.9543 - val_iou: 0.9430 - lr: 2.0000e-04\n",
            "Epoch 40/200\n",
            "207/207 [==============================] - ETA: 0s - loss: 0.0449 - accuracy: 0.9778 - dice_coefficient: 0.9702 - iou: 0.9604\n",
            "Epoch 40: val_loss did not improve from 0.08176\n",
            "\n",
            "Epoch 40: ReduceLROnPlateau reducing learning rate to 0.00015999999595806003.\n",
            "207/207 [==============================] - 108s 524ms/step - loss: 0.0449 - accuracy: 0.9778 - dice_coefficient: 0.9702 - iou: 0.9604 - val_loss: 0.0982 - val_accuracy: 0.9559 - val_dice_coefficient: 0.9490 - val_iou: 0.9369 - lr: 2.0000e-04\n",
            "Epoch 41/200\n",
            "207/207 [==============================] - ETA: 0s - loss: 0.0437 - accuracy: 0.9784 - dice_coefficient: 0.9708 - iou: 0.9611\n",
            "Epoch 41: val_loss improved from 0.08176 to 0.08074, saving model to model_best.h5\n",
            "207/207 [==============================] - 121s 586ms/step - loss: 0.0437 - accuracy: 0.9784 - dice_coefficient: 0.9708 - iou: 0.9611 - val_loss: 0.0807 - val_accuracy: 0.9631 - val_dice_coefficient: 0.9559 - val_iou: 0.9443 - lr: 1.6000e-04\n",
            "Epoch 42/200\n",
            "207/207 [==============================] - ETA: 0s - loss: 0.0433 - accuracy: 0.9789 - dice_coefficient: 0.9717 - iou: 0.9624\n",
            "Epoch 42: val_loss did not improve from 0.08074\n",
            "207/207 [==============================] - 108s 522ms/step - loss: 0.0433 - accuracy: 0.9789 - dice_coefficient: 0.9717 - iou: 0.9624 - val_loss: 0.0829 - val_accuracy: 0.9625 - val_dice_coefficient: 0.9553 - val_iou: 0.9437 - lr: 1.6000e-04\n",
            "Epoch 43/200\n",
            "207/207 [==============================] - ETA: 0s - loss: 0.0406 - accuracy: 0.9800 - dice_coefficient: 0.9729 - iou: 0.9639\n",
            "Epoch 43: val_loss did not improve from 0.08074\n",
            "207/207 [==============================] - 108s 524ms/step - loss: 0.0406 - accuracy: 0.9800 - dice_coefficient: 0.9729 - iou: 0.9639 - val_loss: 0.0813 - val_accuracy: 0.9637 - val_dice_coefficient: 0.9576 - val_iou: 0.9472 - lr: 1.6000e-04\n",
            "Epoch 44/200\n",
            "207/207 [==============================] - ETA: 0s - loss: 0.0395 - accuracy: 0.9805 - dice_coefficient: 0.9736 - iou: 0.9647\n",
            "Epoch 44: val_loss did not improve from 0.08074\n",
            "207/207 [==============================] - 110s 534ms/step - loss: 0.0395 - accuracy: 0.9805 - dice_coefficient: 0.9736 - iou: 0.9647 - val_loss: 0.0814 - val_accuracy: 0.9639 - val_dice_coefficient: 0.9577 - val_iou: 0.9473 - lr: 1.6000e-04\n",
            "Epoch 45/200\n",
            "207/207 [==============================] - ETA: 0s - loss: 0.0386 - accuracy: 0.9809 - dice_coefficient: 0.9742 - iou: 0.9656\n",
            "Epoch 45: val_loss did not improve from 0.08074\n",
            "207/207 [==============================] - 110s 531ms/step - loss: 0.0386 - accuracy: 0.9809 - dice_coefficient: 0.9742 - iou: 0.9656 - val_loss: 0.0871 - val_accuracy: 0.9620 - val_dice_coefficient: 0.9557 - val_iou: 0.9450 - lr: 1.6000e-04\n",
            "Epoch 46/200\n",
            "207/207 [==============================] - ETA: 0s - loss: 0.0384 - accuracy: 0.9810 - dice_coefficient: 0.9743 - iou: 0.9658\n",
            "Epoch 46: val_loss did not improve from 0.08074\n",
            "\n",
            "Epoch 46: ReduceLROnPlateau reducing learning rate to 0.00012799999676644803.\n",
            "207/207 [==============================] - 109s 528ms/step - loss: 0.0384 - accuracy: 0.9810 - dice_coefficient: 0.9743 - iou: 0.9658 - val_loss: 0.0843 - val_accuracy: 0.9629 - val_dice_coefficient: 0.9569 - val_iou: 0.9465 - lr: 1.6000e-04\n",
            "Epoch 47/200\n",
            "207/207 [==============================] - ETA: 0s - loss: 0.0366 - accuracy: 0.9819 - dice_coefficient: 0.9754 - iou: 0.9671\n",
            "Epoch 47: val_loss did not improve from 0.08074\n",
            "207/207 [==============================] - 109s 528ms/step - loss: 0.0366 - accuracy: 0.9819 - dice_coefficient: 0.9754 - iou: 0.9671 - val_loss: 0.0824 - val_accuracy: 0.9643 - val_dice_coefficient: 0.9588 - val_iou: 0.9491 - lr: 1.2800e-04\n",
            "Epoch 48/200\n",
            "207/207 [==============================] - ETA: 0s - loss: 0.0356 - accuracy: 0.9824 - dice_coefficient: 0.9761 - iou: 0.9681\n",
            "Epoch 48: val_loss did not improve from 0.08074\n",
            "207/207 [==============================] - 110s 532ms/step - loss: 0.0356 - accuracy: 0.9824 - dice_coefficient: 0.9761 - iou: 0.9681 - val_loss: 0.0829 - val_accuracy: 0.9641 - val_dice_coefficient: 0.9585 - val_iou: 0.9487 - lr: 1.2800e-04\n",
            "Epoch 49/200\n",
            "207/207 [==============================] - ETA: 0s - loss: 0.0349 - accuracy: 0.9827 - dice_coefficient: 0.9766 - iou: 0.9686\n",
            "Epoch 49: val_loss did not improve from 0.08074\n",
            "207/207 [==============================] - 109s 529ms/step - loss: 0.0349 - accuracy: 0.9827 - dice_coefficient: 0.9766 - iou: 0.9686 - val_loss: 0.0850 - val_accuracy: 0.9638 - val_dice_coefficient: 0.9587 - val_iou: 0.9494 - lr: 1.2800e-04\n",
            "Epoch 50/200\n",
            "207/207 [==============================] - ETA: 0s - loss: 0.0344 - accuracy: 0.9830 - dice_coefficient: 0.9769 - iou: 0.9692\n",
            "Epoch 50: val_loss did not improve from 0.08074\n",
            "207/207 [==============================] - 109s 527ms/step - loss: 0.0344 - accuracy: 0.9830 - dice_coefficient: 0.9769 - iou: 0.9692 - val_loss: 0.0838 - val_accuracy: 0.9640 - val_dice_coefficient: 0.9586 - val_iou: 0.9490 - lr: 1.2800e-04\n",
            "Epoch 51/200\n",
            "207/207 [==============================] - ETA: 0s - loss: 0.0341 - accuracy: 0.9831 - dice_coefficient: 0.9771 - iou: 0.9695\n",
            "Epoch 51: val_loss did not improve from 0.08074\n",
            "\n",
            "Epoch 51: ReduceLROnPlateau reducing learning rate to 0.00010239999974146486.\n",
            "207/207 [==============================] - 109s 526ms/step - loss: 0.0341 - accuracy: 0.9831 - dice_coefficient: 0.9771 - iou: 0.9695 - val_loss: 0.0848 - val_accuracy: 0.9641 - val_dice_coefficient: 0.9589 - val_iou: 0.9496 - lr: 1.2800e-04\n",
            "Epoch 51: early stopping\n"
          ]
        }
      ],
      "source": [
        "from tensorflow.keras.callbacks import ModelCheckpoint, EarlyStopping, ReduceLROnPlateau, TensorBoard\n",
        "import datetime\n",
        "\n",
        "\n",
        "log_dir = \"logs/fit/\" + datetime.datetime.now().strftime(\"%Y%m%d-%H%M%S\")\n",
        "tensorboard_callback = TensorBoard(log_dir=log_dir, histogram_freq=1)\n",
        "\n",
        "# Fit the model\n",
        "callbacks = [\n",
        "    ModelCheckpoint('model_best.h5', verbose=1, save_best_only=True),\n",
        "    EarlyStopping(patience=10, verbose=1),\n",
        "    ReduceLROnPlateau(monitor='val_loss', factor=0.8, patience=5, min_lr=0.00001, verbose=1),\n",
        "    tensorboard_callback\n",
        "]\n",
        "\n",
        "results = model.fit(\n",
        "    X_train, y_train,\n",
        "    validation_data=(X_val, y_val),\n",
        "    batch_size=4, epochs=200,\n",
        "    callbacks=callbacks\n",
        ")"
      ]
    },
    {
      "cell_type": "code",
      "execution_count": 17,
      "metadata": {
        "id": "VTUroCf_DPEH",
        "outputId": "1d70ed6c-0946-4171-b8e4-a89ebd6d8b05",
        "tags": [],
        "colab": {
          "base_uri": "https://localhost:8080/"
        },
        "executionInfo": {
          "status": "ok",
          "timestamp": 1702504974673,
          "user_tz": 0,
          "elapsed": 18904,
          "user": {
            "displayName": "",
            "userId": ""
          }
        }
      },
      "outputs": [
        {
          "output_type": "stream",
          "name": "stdout",
          "text": [
            "4/4 [==============================] - 18s 5s/step - loss: 0.0913 - accuracy: 0.9619 - dice_coefficient: 0.9580 - iou: 0.9476\n",
            "Test Loss: 0.09126036614179611\n",
            "Test Accuracy: 0.9618979096412659\n",
            "Test Dice Co-efficient: 0.9579805731773376\n",
            "Test iou: 0.9476110935211182\n"
          ]
        }
      ],
      "source": [
        "# Evaluate the model on the test set\n",
        "test_loss, test_accuracy, d, i = model.evaluate(X_test, y_test, verbose=1)\n",
        "\n",
        "# Print out the performance metrics\n",
        "print(f\"Test Loss: {test_loss}\")\n",
        "print(f\"Test Accuracy: {test_accuracy}\")\n",
        "print(f\"Test Dice Co-efficient: {d}\")\n",
        "print(f\"Test iou: {i}\")"
      ]
    },
    {
      "cell_type": "markdown",
      "metadata": {
        "id": "ooF3o2OfD7x7"
      },
      "source": [
        "# **Split**"
      ]
    },
    {
      "cell_type": "code",
      "execution_count": 18,
      "metadata": {
        "id": "wPLbStjBE_8b",
        "executionInfo": {
          "status": "ok",
          "timestamp": 1702504980881,
          "user_tz": 0,
          "elapsed": 380,
          "user": {
            "displayName": "",
            "userId": ""
          }
        }
      },
      "outputs": [],
      "source": [
        "from tensorflow.keras.optimizers import Adam\n",
        "import tensorflow as tf\n",
        "from tensorflow.keras.losses import categorical_crossentropy\n",
        "from tensorflow.keras.metrics import Recall, Precision, MeanIoU\n",
        "from tensorflow.keras.losses import categorical_crossentropy\n",
        "\n",
        "\n",
        "smooth = 1e-6  # To avoid division by zero\n",
        "def dice_coefficient(y_true, y_pred):\n",
        "    smooth = 1e-6  # To avoid division by zero\n",
        "    y_true_f = tf.keras.backend.flatten(y_true)\n",
        "    y_pred_f = tf.keras.backend.flatten(y_pred)\n",
        "    intersection = tf.keras.backend.sum(y_true_f * y_pred_f)\n",
        "    return (2. * intersection + smooth) / (tf.keras.backend.sum(y_true_f) + tf.keras.backend.sum(y_pred_f) + smooth)\n",
        "\n",
        "def dice_loss(y_true, y_pred):\n",
        "    return 1 - dice_coefficient(y_true, y_pred)\n",
        "\n",
        "def iou(y_true, y_pred):\n",
        "    intersection = tf.keras.backend.sum(tf.keras.backend.abs(y_true * y_pred), axis=-1)\n",
        "    sum_ = tf.keras.backend.sum(tf.keras.backend.abs(y_true) + tf.keras.backend.abs(y_pred), axis=-1)\n",
        "    iou = (intersection + smooth) / (sum_ - intersection + smooth)\n",
        "    return iou\n",
        "\n",
        "def combined_dice_crossentropy_loss(y_true, y_pred, dice_loss_weight=0.5):\n",
        "    # Dice Loss\n",
        "    dice_loss_value = dice_loss(y_true, y_pred)\n",
        "\n",
        "    # Categorical Cross-Entropy Loss\n",
        "    cross_entropy_loss_value = categorical_crossentropy(y_true, y_pred)\n",
        "\n",
        "    # Combined Loss\n",
        "    combined_loss = dice_loss_weight * dice_loss_value + (1 - dice_loss_weight) * cross_entropy_loss_value\n",
        "    return combined_loss"
      ]
    },
    {
      "cell_type": "code",
      "execution_count": 19,
      "metadata": {
        "id": "EHG-qx51DPEI",
        "tags": [],
        "executionInfo": {
          "status": "ok",
          "timestamp": 1702504987402,
          "user_tz": 0,
          "elapsed": 2045,
          "user": {
            "displayName": "",
            "userId": ""
          }
        }
      },
      "outputs": [],
      "source": [
        "from tensorflow.keras.models import load_model\n",
        "import numpy as np\n",
        "from PIL import Image\n",
        "import cv2\n",
        "\n",
        "\n",
        "def get_input_array(image_path):\n",
        "  array = np.array(Image.open(image_path).convert(\"L\").resize((512, 512), Image.LANCZOS))\n",
        "  array = array.reshape(512, 512, 1)\n",
        "  array = array / 255\n",
        "  array = np.expand_dims(array, axis = 0) # Adding batch.\n",
        "  return array\n",
        "\n",
        "def get_probability_distro(input_array):\n",
        "  model_path = 'model_best.h5'\n",
        "  x = {\n",
        "      \"combined_dice_crossentropy_loss\": combined_dice_crossentropy_loss,\n",
        "      \"iou\": iou,\n",
        "      \"dice_coefficient\": dice_coefficient\n",
        "  }\n",
        "  model = load_model(model_path, custom_objects=x)\n",
        "  predictions = model.predict(input_array)\n",
        "\n",
        "  probability_distro = predictions[0]\n",
        "  return probability_distro\n",
        "\n",
        "def get_segmentation(probability_distro):\n",
        "  return np.argmax(probability_distro, axis = -1)\n",
        "\n",
        "def get_rgb_image(segmentation):\n",
        "  rgb_image = np.zeros((*segmentation.shape, 3), dtype=np.uint8)\n",
        "\n",
        "  colors = {\n",
        "      0: [0, 0, 0], # Black - BG\n",
        "      1: [127, 127, 127], # Grey - VAT\n",
        "      2: [255, 255, 255] # White - SAT\n",
        "  }\n",
        "\n",
        "  for class_index, color in colors.items():\n",
        "    rgb_image[segmentation == class_index] = color\n",
        "\n",
        "  return rgb_image\n",
        "\n",
        "def get_grayscale_image(segmentation):\n",
        "    grayscale_image = np.zeros(segmentation.shape, dtype=np.uint8)\n",
        "\n",
        "    intensities = {\n",
        "        0: 0,   # Black - BACKGROUND\n",
        "        1: 127, # Grey - VISCERAL_FAT\n",
        "        2: 255  # White - SUPERFICIAL_FAT\n",
        "    }\n",
        "\n",
        "    for class_index, intensity in intensities.items():\n",
        "        grayscale_image[segmentation == class_index] = intensity\n",
        "\n",
        "    return grayscale_image\n",
        "\n",
        "import matplotlib.pyplot as plt\n",
        "\n",
        "def clean_gray_scale_image(gray_scale_image):\n",
        "    \"\"\"\n",
        "    This function converts only the white pixels within the interior of the ring to grey,\n",
        "    while preserving the white border and existing grey areas.\n",
        "    \"\"\"\n",
        "    # Define class values\n",
        "    BACKGROUND = 0  # Black\n",
        "    VISCERAL_FAT = 127  # Grey\n",
        "    SUPERFICIAL_FAT = 255  # White\n",
        "\n",
        "    # Step 1: Create a mask for the white (superficial fat) areas\n",
        "    white_mask = gray_scale_image == SUPERFICIAL_FAT\n",
        "\n",
        "    # Initialize a mask that will be used to fill contours\n",
        "    mask = np.zeros_like(gray_scale_image, dtype=np.uint8)\n",
        "\n",
        "    # Step 2: Find all contours on the white mask\n",
        "    contours, hierarchy = cv2.findContours(white_mask.astype(np.uint8), cv2.RETR_CCOMP, cv2.CHAIN_APPROX_SIMPLE)\n",
        "\n",
        "    # Step 3: Fill the white areas that are not border (i.e., have a parent contour which is the border)\n",
        "    for i, contour in enumerate(contours):\n",
        "        # Check if the contour has a parent contour\n",
        "        if hierarchy[0, i, 3] != -1:  # Has a parent contour\n",
        "            cv2.drawContours(mask, [contour], -1, 1, -1)\n",
        "\n",
        "    # Update segmentation image: convert the white to grey where mask is 1 and original pixel is not BACKGROUND\n",
        "    gray_scale_image = np.where((mask == 1) & (gray_scale_image != BACKGROUND), VISCERAL_FAT, gray_scale_image)\n",
        "\n",
        "    return gray_scale_image"
      ]
    },
    {
      "cell_type": "code",
      "execution_count": 20,
      "metadata": {
        "colab": {
          "base_uri": "https://localhost:8080/"
        },
        "id": "0rNZu9c5JZM1",
        "outputId": "1c0b6bee-d3d2-452e-8654-218dd0337af5",
        "executionInfo": {
          "status": "ok",
          "timestamp": 1702505011422,
          "user_tz": 0,
          "elapsed": 5651,
          "user": {
            "displayName": "",
            "userId": ""
          }
        }
      },
      "outputs": [
        {
          "output_type": "stream",
          "name": "stdout",
          "text": [
            "1/1 [==============================] - 0s 268ms/step\n"
          ]
        }
      ],
      "source": [
        "input_array = get_input_array(\"x/x_1.png\")\n",
        "probability_distro = get_probability_distro(input_array)\n",
        "segmentation = get_segmentation(probability_distro)"
      ]
    },
    {
      "cell_type": "code",
      "execution_count": 21,
      "metadata": {
        "id": "oVYf4n9SWEbz",
        "executionInfo": {
          "status": "ok",
          "timestamp": 1702505014480,
          "user_tz": 0,
          "elapsed": 383,
          "user": {
            "displayName": "",
            "userId": ""
          }
        }
      },
      "outputs": [],
      "source": [
        "gray_scale_image = get_grayscale_image(segmentation)\n",
        "final_image = clean_gray_scale_image(gray_scale_image.copy())"
      ]
    },
    {
      "cell_type": "code",
      "execution_count": 22,
      "metadata": {
        "colab": {
          "base_uri": "https://localhost:8080/",
          "height": 523
        },
        "id": "17YvUcYjuq4e",
        "outputId": "de1756e0-530c-43ce-c6e4-d3e2f7f83f6d",
        "executionInfo": {
          "status": "ok",
          "timestamp": 1702505019114,
          "user_tz": 0,
          "elapsed": 1059,
          "user": {
            "displayName": "",
            "userId": ""
          }
        }
      },
      "outputs": [
        {
          "output_type": "display_data",
          "data": {
            "text/plain": [
              "<Figure size 1000x500 with 2 Axes>"
            ],
            "image/png": "[encoded data removed]"
          },
          "metadata": {}
        }
      ],
      "source": [
        "# Display the original and converted images\n",
        "plt.figure(figsize=(10, 5))\n",
        "\n",
        "plt.subplot(1, 2, 1)\n",
        "plt.title('Original Image')\n",
        "plt.imshow(gray_scale_image, cmap='gray')\n",
        "plt.axis('off')\n",
        "\n",
        "plt.subplot(1, 2, 2)\n",
        "plt.title('Final image')\n",
        "plt.imshow(final_image, cmap='gray')\n",
        "plt.axis('off')\n",
        "\n",
        "plt.tight_layout()\n",
        "plt.show()"
      ]
    },
    {
      "cell_type": "code",
      "execution_count": null,
      "metadata": {
        "id": "VDS6lRnLxSVw",
        "tags": []
      },
      "outputs": [],
      "source": [
        "# def convert_interior_white_to_grey(segmentation):\n",
        "#     \"\"\"\n",
        "#     This function converts only the white pixels within the interior of the ring to grey,\n",
        "#     while preserving the white border and existing grey areas.\n",
        "#     \"\"\"\n",
        "#     # Define class values\n",
        "#     BACKGROUND = 0  # Black\n",
        "#     VISCERAL_FAT = 128  # Grey\n",
        "#     SUPERFICIAL_FAT = 255  # White\n",
        "\n",
        "#     # Step 1: Create a mask for the white (superficial fat) areas\n",
        "#     white_mask = segmentation == 0\n",
        "\n",
        "#     # Step 2: Find all contours on the white mask\n",
        "#     contours, hierarchy = cv2.findContours(white_mask.astype(np.uint8), cv2.RETR_CCOMP, cv2.CHAIN_APPROX_SIMPLE)\n",
        "\n",
        "#     # Step 3: Fill the white areas that are not border (i.e., have a parent contour which is the border)\n",
        "#     for i, contour in enumerate(contours):\n",
        "#         # Check if the contour has a parent contour\n",
        "#         if hierarchy[0, i, 3] != -1:  # Has a parent contour\n",
        "#             cv2.drawContours(segmentation, [contour], -1, VISCERAL_FAT, -1)\n",
        "\n",
        "#     return segmentation\n",
        "\n",
        "# image = np.array(Image.open(\"a.png\").convert(\"L\"))\n",
        "# # Apply the conversion function to the original segmentation\n",
        "# converted_interior_segmentation = convert_interior_white_to_grey(image.copy())\n",
        "\n",
        "# # Display the original and converted images\n",
        "# plt.figure(figsize=(10, 5))\n",
        "\n",
        "# plt.subplot(1, 2, 1)\n",
        "# plt.title('Original Image')\n",
        "# plt.imshow(image, cmap='gray')\n",
        "# plt.axis('off')\n",
        "\n",
        "# plt.subplot(1, 2, 2)\n",
        "# plt.title('Converted Interior Segmentation')\n",
        "# plt.imshow(converted_interior_segmentation, cmap='gray')\n",
        "# plt.axis('off')\n",
        "\n",
        "# plt.tight_layout()\n",
        "# plt.show()\n"
      ]
    },
    {
      "cell_type": "code",
      "source": [
        "!zip -r /content/file.zip /content/logs/"
      ],
      "metadata": {
        "colab": {
          "base_uri": "https://localhost:8080/"
        },
        "id": "lSjbYyOcOiEy",
        "executionInfo": {
          "status": "ok",
          "timestamp": 1702505368273,
          "user_tz": 0,
          "elapsed": 478,
          "user": {
            "displayName": "",
            "userId": ""
          }
        },
        "outputId": "f5fb5411-8d13-48bf-f607-5964aae3db83"
      },
      "execution_count": 23,
      "outputs": [
        {
          "output_type": "stream",
          "name": "stdout",
          "text": [
            "  adding: content/logs/ (stored 0%)\n",
            "  adding: content/logs/fit/ (stored 0%)\n",
            "  adding: content/logs/fit/20231213-201857/ (stored 0%)\n",
            "  adding: content/logs/fit/20231213-201857/train/ (stored 0%)\n",
            "  adding: content/logs/fit/20231213-201857/train/events.out.tfevents.1702498745.fde8f4951a83.70284.3.v2 (deflated 79%)\n",
            "  adding: content/logs/fit/20231213-201857/validation/ (stored 0%)\n",
            "  adding: content/logs/fit/20231213-201857/validation/events.out.tfevents.1702498881.fde8f4951a83.70284.4.v2 (deflated 79%)\n"
          ]
        }
      ]
    },
    {
      "cell_type": "code",
      "source": [
        "from google.colab import files\n",
        "files.download(\"/content/file.zip\")"
      ],
      "metadata": {
        "id": "z11Vi9ImO0Cj",
        "executionInfo": {
          "status": "ok",
          "timestamp": 1702505444449,
          "user_tz": 0,
          "elapsed": 397,
          "user": {
            "displayName": "",
            "userId": ""
          }
        },
        "outputId": "3bf9dfd0-c3c5-4013-b6e0-87a85df6d50a",
        "colab": {
          "base_uri": "https://localhost:8080/",
          "height": 17
        }
      },
      "execution_count": 24,
      "outputs": [
        {
          "output_type": "display_data",
          "data": {
            "text/plain": [
              "<IPython.core.display.Javascript object>"
            ],
            "application/javascript": [
              "\n",
              "    async function download(id, filename, size) {\n",
              "      if (!google.colab.kernel.accessAllowed) {\n",
              "        return;\n",
              "      }\n",
              "      const div = document.createElement('div');\n",
              "      const label = document.createElement('label');\n",
              "      label.textContent = `Downloading \"${filename}\": `;\n",
              "      div.appendChild(label);\n",
              "      const progress = document.createElement('progress');\n",
              "      progress.max = size;\n",
              "      div.appendChild(progress);\n",
              "      document.body.appendChild(div);\n",
              "\n",
              "      const buffers = [];\n",
              "      let downloaded = 0;\n",
              "\n",
              "      const channel = await google.colab.kernel.comms.open(id);\n",
              "      // Send a message to notify the kernel that we're ready.\n",
              "      channel.send({})\n",
              "\n",
              "      for await (const message of channel.messages) {\n",
              "        // Send a message to notify the kernel that we're ready.\n",
              "        channel.send({})\n",
              "        if (message.buffers) {\n",
              "          for (const buffer of message.buffers) {\n",
              "            buffers.push(buffer);\n",
              "            downloaded += buffer.byteLength;\n",
              "            progress.value = downloaded;\n",
              "          }\n",
              "        }\n",
              "      }\n",
              "      const blob = new Blob(buffers, {type: 'application/binary'});\n",
              "      const a = document.createElement('a');\n",
              "      a.href = window.URL.createObjectURL(blob);\n",
              "      a.download = filename;\n",
              "      div.appendChild(a);\n",
              "      a.click();\n",
              "      div.remove();\n",
              "    }\n",
              "  "
            ]
          },
          "metadata": {}
        },
        {
          "output_type": "display_data",
          "data": {
            "text/plain": [
              "<IPython.core.display.Javascript object>"
            ],
            "application/javascript": [
              "download(\"download_6f381714-0dc4-4b28-a30d-67315d47c7e7\", \"file.zip\", 641245)"
            ]
          },
          "metadata": {}
        }
      ]
    }
  ],
  "metadata": {
    "accelerator": "GPU",
    "colab": {
      "gpuType": "V100",
      "provenance": []
    },
    "environment": {
      "kernel": "python3",
      "name": "tf2-gpu.2-13.m113",
      "type": "gcloud",
      "uri": "gcr.io/deeplearning-platform-release/tf2-gpu.2-13:m113"
    },
    "kernelspec": {
      "display_name": "Python 3",
      "language": "python",
      "name": "python3"
    },
    "language_info": {
      "codemirror_mode": {
        "name": "ipython",
        "version": 3
      },
      "file_extension": ".py",
      "mimetype": "text/x-python",
      "name": "python",
      "nbconvert_exporter": "python",
      "pygments_lexer": "ipython3",
      "version": "3.10.13"
    }
  },
  "nbformat": 4,
  "nbformat_minor": 0
}